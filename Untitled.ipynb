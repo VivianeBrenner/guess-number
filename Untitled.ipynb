{
 "cells": [
  {
   "cell_type": "code",
   "execution_count": 3,
   "id": "74ec7402-d52d-47e8-8399-d6ac07dc829f",
   "metadata": {},
   "outputs": [
    {
     "name": "stdout",
     "output_type": "stream",
     "text": [
      "Bem-vindo ao Guess Number!\n"
     ]
    },
    {
     "name": "stdin",
     "output_type": "stream",
     "text": [
      "Digite o número teto do desafio:  5\n",
      "Adivinhe o número:  1\n"
     ]
    },
    {
     "name": "stdout",
     "output_type": "stream",
     "text": [
      "Chutou baixo! O número é maior que isso...\n"
     ]
    },
    {
     "name": "stdin",
     "output_type": "stream",
     "text": [
      "Adivinhe o número:  3\n"
     ]
    },
    {
     "name": "stdout",
     "output_type": "stream",
     "text": [
      "Acertou!\n",
      "Número de tentativas: 2\n"
     ]
    }
   ],
   "source": [
    "import random\n",
    "\n",
    "print(\"Bem-vindo ao Guess Number!\")\n",
    "choice_number = input(\"Digite o número teto do desafio: \")\n",
    "\n",
    "if choice_number.isdigit():\n",
    "    choice_number = int(choice_number)\n",
    "else:\n",
    "    print(\"Erro: valor informado não é númerico!\")\n",
    "    quit()\n",
    "\n",
    "random_number = random.randint(0, choice_number)\n",
    "\n",
    "n_choices = 0\n",
    "\n",
    "while True:\n",
    "    answer_user = input(\"Adivinhe o número: \")\n",
    "\n",
    "    if answer_user.isdigit():\n",
    "        answer_user = int(answer_user)\n",
    "    else:\n",
    "        print(\"Erro: valor informado não é númerico, por favor informe um número!\")\n",
    "        continue\n",
    "\n",
    "    n_choices = n_choices + 1\n",
    "    if answer_user == random_number:\n",
    "        print(\"Acertou!\")\n",
    "        break\n",
    "    elif answer_user > random_number:\n",
    "        print(\"Chutou alto! O número é menor que isso...\")\n",
    "    else:\n",
    "         print(\"Chutou baixo! O número é maior que isso...\")\n",
    "print(\"Número de tentativas: \" + str(n_choices))\n"
   ]
  },
  {
   "cell_type": "code",
   "execution_count": null,
   "id": "6084f93f-a846-4f5e-9fa3-797691b86be4",
   "metadata": {},
   "outputs": [],
   "source": []
  }
 ],
 "metadata": {
  "kernelspec": {
   "display_name": "Python 3 (ipykernel)",
   "language": "python",
   "name": "python3"
  },
  "language_info": {
   "codemirror_mode": {
    "name": "ipython",
    "version": 3
   },
   "file_extension": ".py",
   "mimetype": "text/x-python",
   "name": "python",
   "nbconvert_exporter": "python",
   "pygments_lexer": "ipython3",
   "version": "3.12.2"
  }
 },
 "nbformat": 4,
 "nbformat_minor": 5
}
